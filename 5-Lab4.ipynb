{
 "cells": [
  {
   "cell_type": "code",
   "execution_count": 2,
   "metadata": {},
   "outputs": [],
   "source": [
    "import time\n",
    "\n",
    "import numpy as np\n",
    "import matplotlib.pyplot as plt\n",
    "%matplotlib inline\n",
    "\n",
    "from sklearn.ensemble import GradientBoostingClassifier\n",
    "from sklearn.datasets import load_digits\n",
    "from sklearn.model_selection import train_test_split"
   ]
  },
  {
   "cell_type": "markdown",
   "metadata": {},
   "source": [
    "- Load digits data set using load_digits()\n",
    "- Train GradientBoostingCLassifier with and without early stopping\n",
    "- Keep a timer for both cases and report the time it takes to train both models\n",
    "- Report the scores for both models"
   ]
  },
  {
   "cell_type": "code",
   "execution_count": 3,
   "metadata": {},
   "outputs": [
    {
     "data": {
      "text/plain": [
       "(1797, 64)"
      ]
     },
     "execution_count": 3,
     "metadata": {},
     "output_type": "execute_result"
    }
   ],
   "source": [
    "digits = load_digits()\n",
    "X = digits.data\n",
    "y = digits.target\n",
    "\n",
    "\n"
   ]
  },
  {
   "cell_type": "code",
   "execution_count": 4,
   "metadata": {},
   "outputs": [],
   "source": [
    "val_frac = .2\n",
    "\n",
    "gbc_stop = GradientBoostingClassifier(validation_fraction=val_frac, n_iter_no_change=5)\n",
    "gbc_nostop = GradientBoostingClassifier()"
   ]
  },
  {
   "cell_type": "code",
   "execution_count": 5,
   "metadata": {},
   "outputs": [],
   "source": [
    "def modelruntime(X, y, model):\n",
    "    Xtr, Xts, ytr, yts = train_test_split(X, y, stratify=y)\n",
    "\n",
    "    t0 = time.perf_counter()\n",
    "    model.fit(Xtr, ytr)\n",
    "    t1 = time.perf_counter()\n",
    "\n",
    "    print(f'Training score: {model.score(Xtr, ytr)}')\n",
    "    print(f'Test score: {model.score(Xts, yts)}')\n",
    "    return t1-t0\n"
   ]
  },
  {
   "cell_type": "code",
   "execution_count": 12,
   "metadata": {},
   "outputs": [
    {
     "name": "stdout",
     "output_type": "stream",
     "text": [
      "Training score: 1.0\n",
      "Test score: 0.9466666666666667\n",
      "No early stopping: 4.5981 s\n"
     ]
    }
   ],
   "source": [
    "dtnostop = modelruntime(X, y, gbc_nostop)\n",
    "print(f'No early stopping: {dtnostop:.4f} s')"
   ]
  },
  {
   "cell_type": "code",
   "execution_count": 13,
   "metadata": {},
   "outputs": [
    {
     "name": "stdout",
     "output_type": "stream",
     "text": [
      "Training score: 0.9903489235337788\n",
      "Test score: 0.9622222222222222\n",
      "With early stopping: 3.1994 s\n"
     ]
    }
   ],
   "source": [
    "dtstop = modelruntime(X, y, gbc_stop)\n",
    "print(f'With early stopping: {dtstop:.4f} s')"
   ]
  }
 ],
 "metadata": {
  "kernelspec": {
   "display_name": "Python 3.9.12 ('datsci')",
   "language": "python",
   "name": "python3"
  },
  "language_info": {
   "codemirror_mode": {
    "name": "ipython",
    "version": 3
   },
   "file_extension": ".py",
   "mimetype": "text/x-python",
   "name": "python",
   "nbconvert_exporter": "python",
   "pygments_lexer": "ipython3",
   "version": "3.9.12"
  },
  "orig_nbformat": 4,
  "vscode": {
   "interpreter": {
    "hash": "ff6bbc059f09f5d67763002880d565854665e18376ee4b40865bcf6ed65b96b4"
   }
  }
 },
 "nbformat": 4,
 "nbformat_minor": 2
}
